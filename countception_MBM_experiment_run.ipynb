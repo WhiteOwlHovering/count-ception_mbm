{
 "cells": [
  {
   "cell_type": "code",
   "execution_count": 1,
   "metadata": {},
   "outputs": [],
   "source": [
    "import argparse\n",
    "import torch\n",
    "\n",
    "from torch import nn, optim\n",
    "from torch.utils.data import DataLoader\n",
    "from torchvision import transforms\n",
    "from utils.dataset import MBM\n",
    "from model import ModelCountception\n",
    "import numpy as np"
   ]
  },
  {
   "cell_type": "code",
   "execution_count": 2,
   "metadata": {},
   "outputs": [
    {
     "name": "stdout",
     "output_type": "stream",
     "text": [
      "np_dataset_x_train 15\n",
      "np_dataset_x_valid 15\n"
     ]
    },
    {
     "name": "stderr",
     "output_type": "stream",
     "text": [
      "/home/James/Documents/count-ception_mbm/model.py:70: UserWarning: nn.init.xavier_uniform is now deprecated in favor of nn.init.xavier_uniform_.\n",
      "  init.xavier_uniform(m.weight, gain=init.calculate_gain('leaky_relu', param=0.01))\n"
     ]
    },
    {
     "name": "stdout",
     "output_type": "stream",
     "text": [
      "Epoch 0 - Validation Loss: 0.73126733\n",
      "Epoch 1 - Validation Loss: 0.71268797\n",
      "Epoch 2 - Validation Loss: 0.7098292\n",
      "Epoch 3 - Validation Loss: 0.7071044\n",
      "Epoch 4 - Validation Loss: 0.67970365\n",
      "Epoch 5 - Validation Loss: 0.67950225\n",
      "Epoch 6 - Validation Loss: 0.6586379\n",
      "Epoch 7 - Validation Loss: 0.66574633\n",
      "Epoch 8 - Validation Loss: 0.67066306\n",
      "Epoch 9 - Validation Loss: 0.673278\n"
     ]
    }
   ],
   "source": [
    "# parser = argparse.ArgumentParser(description='PyTorch Sealion count training')\n",
    "# parser.add_argument('--pkl-file', default=\"utils/MBM-dataset.pkl\", type=str, help='path to pickle file.')\n",
    "# parser.add_argument('--batch-size', default=2, type=int, help='the batch size for training.')\n",
    "# parser.add_argument('--epochs', default=1000, type=int, help='total number of training epochs.')\n",
    "# parser.add_argument('--lr', default=0.001, type=float, help='learning rate.')\n",
    "pkl_file = 'utils/MBM-dataset.pkl'\n",
    "batch_size = 2\n",
    "lr = 0.001\n",
    "epochs = 10 #1000\n",
    "\n",
    "# def main():\n",
    "device = torch.device(\"cuda\" if torch.cuda.is_available() else \"cpu\")\n",
    "\n",
    "train_dataset = MBM(pkl_file=pkl_file, transform=transforms.Compose([transforms.ToTensor()]), mode='train')\n",
    "train_dataloader = DataLoader(train_dataset, batch_size=batch_size, shuffle=True, num_workers=8)\n",
    "\n",
    "val_dataset = MBM(pkl_file=pkl_file, transform=transforms.Compose([transforms.ToTensor()]), mode='valid')\n",
    "val_dataloader = DataLoader(val_dataset, batch_size=batch_size, shuffle=True, num_workers=8)\n",
    "\n",
    "criterion = nn.L1Loss()\n",
    "model = ModelCountception().to(device)\n",
    "solver = optim.Adam(model.parameters(), lr=lr)\n",
    "\n",
    "for epoch in range(epochs):\n",
    "    for idx, (input, target, _) in enumerate(train_dataloader):\n",
    "        input = input.to(device)\n",
    "        target = target.to(device)\n",
    "        output = model.forward(input)\n",
    "        loss = criterion(output, target)\n",
    "\n",
    "        # Zero grad\n",
    "        model.zero_grad()\n",
    "        loss.backward()\n",
    "        solver.step()\n",
    "\n",
    "    with torch.no_grad():\n",
    "        val_loss = []\n",
    "        for idx, (input, target, _) in enumerate(val_dataloader):\n",
    "            input = input.to(device)\n",
    "            target = target.to(device)\n",
    "            output = model.forward(input)\n",
    "            val_loss.append(criterion(output, target).data.cpu().numpy())\n",
    "        print(\"Epoch\", epoch, \"- Validation Loss:\", np.mean(val_loss))\n",
    "\n",
    "    if (epoch+1) % 50 == 0:\n",
    "        state = {'model_weights': model.state_dict()}\n",
    "        torch.save(state, \"checkpoints/after_{0}_epochs.model\".format(epoch))\n",
    "\n",
    "\n",
    "# if __name__ == '__main__':\n",
    "#     main()\n"
   ]
  },
  {
   "cell_type": "code",
   "execution_count": null,
   "metadata": {},
   "outputs": [],
   "source": []
  },
  {
   "cell_type": "code",
   "execution_count": null,
   "metadata": {},
   "outputs": [],
   "source": []
  },
  {
   "cell_type": "code",
   "execution_count": null,
   "metadata": {},
   "outputs": [],
   "source": []
  },
  {
   "cell_type": "code",
   "execution_count": null,
   "metadata": {},
   "outputs": [],
   "source": []
  }
 ],
 "metadata": {
  "kernelspec": {
   "display_name": "pytorch",
   "language": "python",
   "name": "pytorch"
  },
  "language_info": {
   "codemirror_mode": {
    "name": "ipython",
    "version": 3
   },
   "file_extension": ".py",
   "mimetype": "text/x-python",
   "name": "python",
   "nbconvert_exporter": "python",
   "pygments_lexer": "ipython3",
   "version": "3.6.8"
  }
 },
 "nbformat": 4,
 "nbformat_minor": 2
}
